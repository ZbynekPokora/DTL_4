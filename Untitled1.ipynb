{
  "nbformat": 4,
  "nbformat_minor": 0,
  "metadata": {
    "colab": {
      "provenance": [],
      "authorship_tag": "ABX9TyOv7piB+5sQDoPM3wAWmqHj",
      "include_colab_link": true
    },
    "kernelspec": {
      "name": "python3",
      "display_name": "Python 3"
    },
    "language_info": {
      "name": "python"
    }
  },
  "cells": [
    {
      "cell_type": "markdown",
      "metadata": {
        "id": "view-in-github",
        "colab_type": "text"
      },
      "source": [
        "<a href=\"https://colab.research.google.com/github/ZbynekPokora/DTL_4/blob/main/Untitled1.ipynb\" target=\"_parent\"><img src=\"https://colab.research.google.com/assets/colab-badge.svg\" alt=\"Open In Colab\"/></a>"
      ]
    },
    {
      "cell_type": "code",
      "execution_count": null,
      "metadata": {
        "id": "BeamYq7Vydc9"
      },
      "outputs": [],
      "source": []
    },
    {
      "cell_type": "markdown",
      "metadata": {
        "id": "de409dbf"
      },
      "source": [
        "# Task\n",
        "Analyzujte data o návštěvách pacientů v České republice v letech 2010-2022 (\"UZIS.zip\") a shapefiles regionů (\"Lau1-current-iz.shp.zip\") s cílem prozkoumat časoprostorové trendy, analyzovat poptávku během krizí (např. COVID-19), prozkoumat regionální chování a modelovat systém zdravotní péče jako dynamickou, váženou síť toků pacientů mezi regiony. Využijte LLM k interaktivnímu dotazování a shrnutí vzorců využívání zdravotní péče. Data jsou uložena na GitHubu."
      ]
    },
    {
      "cell_type": "markdown",
      "metadata": {
        "id": "f1ae388c"
      },
      "source": [
        "## Načtení a příprava dat\n",
        "\n",
        "### Subtask:\n",
        "Stáhněte a rozbalte datové soubory \"UZIS.zip\" a \"Lau1-current-iz.shp.zip\". Načtěte data o návštěvách zdravotní péče do pandas DataFrame a shapefile do geopandas DataFrame.\n"
      ]
    },
    {
      "cell_type": "markdown",
      "metadata": {
        "id": "ae491006"
      },
      "source": [
        "**Reasoning**:\n",
        "Download and extract the zip files from the provided GitHub URLs, then load the healthcare visit data into a pandas DataFrame and the shapefile into a geopandas DataFrame.\n",
        "\n"
      ]
    },
    {
      "cell_type": "code",
      "metadata": {
        "colab": {
          "base_uri": "https://localhost:8080/",
          "height": 356
        },
        "id": "47c00ad6",
        "outputId": "a4221d35-fb64-44ed-dfc9-b4bf09ea21df"
      },
      "source": [
        "import requests\n",
        "import zipfile\n",
        "import os\n",
        "import pandas as pd\n",
        "import geopandas as gpd\n",
        "\n",
        "# Define URLs\n",
        "uzis_url = \"https://raw.githubusercontent.com/ZbynekPokora/DTL_4/main/data/UZIS.zip\"\n",
        "lau1_url = \"https://raw.githubusercontent.com/ZbynekPokora/DTL_4/main/data/lau1-current-iz.shp.zip\"\n",
        "\n",
        "# Define target directory\n",
        "data_dir = \"data\"\n",
        "os.makedirs(data_dir, exist_ok=True)\n",
        "\n",
        "# Download and extract UZIS data\n",
        "uzis_zip_path = os.path.join(data_dir, \"UZIS.zip\")\n",
        "response = requests.get(uzis_url)\n",
        "with open(uzis_zip_path, \"wb\") as f:\n",
        "    f.write(response.content)\n",
        "\n",
        "with zipfile.ZipFile(uzis_zip_path, 'r') as zip_ref:\n",
        "    zip_ref.extractall(data_dir)\n",
        "\n",
        "# Find the extracted CSV or similar file\n",
        "uzis_data_file = None\n",
        "for root, _, files in os.walk(data_dir):\n",
        "    for file in files:\n",
        "        if file.endswith(\".csv\"): # Assuming CSV, adjust if needed\n",
        "            uzis_data_file = os.path.join(root, file)\n",
        "            break\n",
        "    if uzis_data_file:\n",
        "        break\n",
        "\n",
        "if uzis_data_file:\n",
        "    df_uzis = pd.read_csv(uzis_data_file)\n",
        "    print(\"UZIS data loaded successfully.\")\n",
        "else:\n",
        "    print(\"UZIS data file not found after extraction.\")\n",
        "    df_uzis = None\n",
        "\n",
        "# Download and extract LAU1 shapefile\n",
        "lau1_zip_path = os.path.join(data_dir, \"Lau1-current-iz.shp.zip\")\n",
        "response = requests.get(lau1_url)\n",
        "with open(lau1_zip_path, \"wb\") as f:\n",
        "    f.write(response.content)\n",
        "\n",
        "with zipfile.ZipFile(lau1_zip_path, 'r') as zip_ref:\n",
        "    zip_ref.extractall(data_dir)\n",
        "\n",
        "# Find the extracted shapefile\n",
        "lau1_shp_file = None\n",
        "for root, _, files in os.walk(data_dir):\n",
        "    for file in files:\n",
        "        if file.endswith(\".shp\"):\n",
        "            lau1_shp_file = os.path.join(root, file)\n",
        "            break\n",
        "    if lau1_shp_file:\n",
        "        break\n",
        "\n",
        "if lau1_shp_file:\n",
        "    gdf_lau1 = gpd.read_file(lau1_shp_file)\n",
        "    print(\"LAU1 shapefile loaded successfully.\")\n",
        "else:\n",
        "    print(\"LAU1 shapefile not found after extraction.\")\n",
        "    gdf_lau1 = None\n",
        "\n",
        "# Display the first few rows of the dataframes\n",
        "if df_uzis is not None:\n",
        "    display(df_uzis.head())\n",
        "if gdf_lau1 is not None:\n",
        "    display(gdf_lau1.head())"
      ],
      "execution_count": 3,
      "outputs": [
        {
          "output_type": "error",
          "ename": "BadZipFile",
          "evalue": "File is not a zip file",
          "traceback": [
            "\u001b[0;31m---------------------------------------------------------------------------\u001b[0m",
            "\u001b[0;31mBadZipFile\u001b[0m                                Traceback (most recent call last)",
            "\u001b[0;32m/tmp/ipython-input-3-966060706.py\u001b[0m in \u001b[0;36m<cell line: 0>\u001b[0;34m()\u001b[0m\n\u001b[1;32m     19\u001b[0m     \u001b[0mf\u001b[0m\u001b[0;34m.\u001b[0m\u001b[0mwrite\u001b[0m\u001b[0;34m(\u001b[0m\u001b[0mresponse\u001b[0m\u001b[0;34m.\u001b[0m\u001b[0mcontent\u001b[0m\u001b[0;34m)\u001b[0m\u001b[0;34m\u001b[0m\u001b[0;34m\u001b[0m\u001b[0m\n\u001b[1;32m     20\u001b[0m \u001b[0;34m\u001b[0m\u001b[0m\n\u001b[0;32m---> 21\u001b[0;31m \u001b[0;32mwith\u001b[0m \u001b[0mzipfile\u001b[0m\u001b[0;34m.\u001b[0m\u001b[0mZipFile\u001b[0m\u001b[0;34m(\u001b[0m\u001b[0muzis_zip_path\u001b[0m\u001b[0;34m,\u001b[0m \u001b[0;34m'r'\u001b[0m\u001b[0;34m)\u001b[0m \u001b[0;32mas\u001b[0m \u001b[0mzip_ref\u001b[0m\u001b[0;34m:\u001b[0m\u001b[0;34m\u001b[0m\u001b[0;34m\u001b[0m\u001b[0m\n\u001b[0m\u001b[1;32m     22\u001b[0m     \u001b[0mzip_ref\u001b[0m\u001b[0;34m.\u001b[0m\u001b[0mextractall\u001b[0m\u001b[0;34m(\u001b[0m\u001b[0mdata_dir\u001b[0m\u001b[0;34m)\u001b[0m\u001b[0;34m\u001b[0m\u001b[0;34m\u001b[0m\u001b[0m\n\u001b[1;32m     23\u001b[0m \u001b[0;34m\u001b[0m\u001b[0m\n",
            "\u001b[0;32m/usr/lib/python3.11/zipfile.py\u001b[0m in \u001b[0;36m__init__\u001b[0;34m(self, file, mode, compression, allowZip64, compresslevel, strict_timestamps, metadata_encoding)\u001b[0m\n\u001b[1;32m   1311\u001b[0m         \u001b[0;32mtry\u001b[0m\u001b[0;34m:\u001b[0m\u001b[0;34m\u001b[0m\u001b[0;34m\u001b[0m\u001b[0m\n\u001b[1;32m   1312\u001b[0m             \u001b[0;32mif\u001b[0m \u001b[0mmode\u001b[0m \u001b[0;34m==\u001b[0m \u001b[0;34m'r'\u001b[0m\u001b[0;34m:\u001b[0m\u001b[0;34m\u001b[0m\u001b[0;34m\u001b[0m\u001b[0m\n\u001b[0;32m-> 1313\u001b[0;31m                 \u001b[0mself\u001b[0m\u001b[0;34m.\u001b[0m\u001b[0m_RealGetContents\u001b[0m\u001b[0;34m(\u001b[0m\u001b[0;34m)\u001b[0m\u001b[0;34m\u001b[0m\u001b[0;34m\u001b[0m\u001b[0m\n\u001b[0m\u001b[1;32m   1314\u001b[0m             \u001b[0;32melif\u001b[0m \u001b[0mmode\u001b[0m \u001b[0;32min\u001b[0m \u001b[0;34m(\u001b[0m\u001b[0;34m'w'\u001b[0m\u001b[0;34m,\u001b[0m \u001b[0;34m'x'\u001b[0m\u001b[0;34m)\u001b[0m\u001b[0;34m:\u001b[0m\u001b[0;34m\u001b[0m\u001b[0;34m\u001b[0m\u001b[0m\n\u001b[1;32m   1315\u001b[0m                 \u001b[0;31m# set the modified flag so central directory gets written\u001b[0m\u001b[0;34m\u001b[0m\u001b[0;34m\u001b[0m\u001b[0m\n",
            "\u001b[0;32m/usr/lib/python3.11/zipfile.py\u001b[0m in \u001b[0;36m_RealGetContents\u001b[0;34m(self)\u001b[0m\n\u001b[1;32m   1378\u001b[0m             \u001b[0;32mraise\u001b[0m \u001b[0mBadZipFile\u001b[0m\u001b[0;34m(\u001b[0m\u001b[0;34m\"File is not a zip file\"\u001b[0m\u001b[0;34m)\u001b[0m\u001b[0;34m\u001b[0m\u001b[0;34m\u001b[0m\u001b[0m\n\u001b[1;32m   1379\u001b[0m         \u001b[0;32mif\u001b[0m \u001b[0;32mnot\u001b[0m \u001b[0mendrec\u001b[0m\u001b[0;34m:\u001b[0m\u001b[0;34m\u001b[0m\u001b[0;34m\u001b[0m\u001b[0m\n\u001b[0;32m-> 1380\u001b[0;31m             \u001b[0;32mraise\u001b[0m \u001b[0mBadZipFile\u001b[0m\u001b[0;34m(\u001b[0m\u001b[0;34m\"File is not a zip file\"\u001b[0m\u001b[0;34m)\u001b[0m\u001b[0;34m\u001b[0m\u001b[0;34m\u001b[0m\u001b[0m\n\u001b[0m\u001b[1;32m   1381\u001b[0m         \u001b[0;32mif\u001b[0m \u001b[0mself\u001b[0m\u001b[0;34m.\u001b[0m\u001b[0mdebug\u001b[0m \u001b[0;34m>\u001b[0m \u001b[0;36m1\u001b[0m\u001b[0;34m:\u001b[0m\u001b[0;34m\u001b[0m\u001b[0;34m\u001b[0m\u001b[0m\n\u001b[1;32m   1382\u001b[0m             \u001b[0mprint\u001b[0m\u001b[0;34m(\u001b[0m\u001b[0mendrec\u001b[0m\u001b[0;34m)\u001b[0m\u001b[0;34m\u001b[0m\u001b[0;34m\u001b[0m\u001b[0m\n",
            "\u001b[0;31mBadZipFile\u001b[0m: File is not a zip file"
          ]
        }
      ]
    },
    {
      "cell_type": "code",
      "metadata": {
        "colab": {
          "base_uri": "https://localhost:8080/"
        },
        "id": "40a195a8",
        "outputId": "61c993d0-22c9-4f90-c7d6-fcb51cc2d6a0"
      },
      "source": [
        "!wget https://raw.githubusercontent.com/ZbynekPokora/DTL_4/main/data/UZIS.zip -P data/\n",
        "!wget https://raw.githubusercontent.com/ZbynekPokora/DTL_4/main/data/lau1-current-iz.shp.zip -P data/\n",
        "!unzip data/UZIS.zip -d data/\n",
        "!unzip data/lau1-current-iz.shp.zip -d data/"
      ],
      "execution_count": 5,
      "outputs": [
        {
          "output_type": "stream",
          "name": "stdout",
          "text": [
            "--2025-07-01 11:54:26--  https://raw.githubusercontent.com/ZbynekPokora/DTL_4/main/data/UZIS.zip\n",
            "Resolving raw.githubusercontent.com (raw.githubusercontent.com)... 185.199.108.133, 185.199.109.133, 185.199.110.133, ...\n",
            "Connecting to raw.githubusercontent.com (raw.githubusercontent.com)|185.199.108.133|:443... connected.\n",
            "HTTP request sent, awaiting response... 200 OK\n",
            "Length: 134 [application/zip]\n",
            "Saving to: ‘data/UZIS.zip’\n",
            "\n",
            "\rUZIS.zip              0%[                    ]       0  --.-KB/s               \rUZIS.zip            100%[===================>]     134  --.-KB/s    in 0s      \n",
            "\n",
            "2025-07-01 11:54:26 (5.00 MB/s) - ‘data/UZIS.zip’ saved [134/134]\n",
            "\n",
            "--2025-07-01 11:54:26--  https://raw.githubusercontent.com/ZbynekPokora/DTL_4/main/data/lau1-current-iz.shp.zip\n",
            "Resolving raw.githubusercontent.com (raw.githubusercontent.com)... 185.199.109.133, 185.199.110.133, 185.199.108.133, ...\n",
            "Connecting to raw.githubusercontent.com (raw.githubusercontent.com)|185.199.109.133|:443... connected.\n",
            "HTTP request sent, awaiting response... 200 OK\n",
            "Length: 133 [application/zip]\n",
            "Saving to: ‘data/lau1-current-iz.shp.zip’\n",
            "\n",
            "lau1-current-iz.shp 100%[===================>]     133  --.-KB/s    in 0s      \n",
            "\n",
            "2025-07-01 11:54:26 (2.35 MB/s) - ‘data/lau1-current-iz.shp.zip’ saved [133/133]\n",
            "\n",
            "Archive:  data/UZIS.zip\n",
            "  End-of-central-directory signature not found.  Either this file is not\n",
            "  a zipfile, or it constitutes one disk of a multi-part archive.  In the\n",
            "  latter case the central directory and zipfile comment will be found on\n",
            "  the last disk(s) of this archive.\n",
            "unzip:  cannot find zipfile directory in one of data/UZIS.zip or\n",
            "        data/UZIS.zip.zip, and cannot find data/UZIS.zip.ZIP, period.\n",
            "Archive:  data/lau1-current-iz.shp.zip\n",
            "  End-of-central-directory signature not found.  Either this file is not\n",
            "  a zipfile, or it constitutes one disk of a multi-part archive.  In the\n",
            "  latter case the central directory and zipfile comment will be found on\n",
            "  the last disk(s) of this archive.\n",
            "unzip:  cannot find zipfile directory in one of data/lau1-current-iz.shp.zip or\n",
            "        data/lau1-current-iz.shp.zip.zip, and cannot find data/lau1-current-iz.shp.zip.ZIP, period.\n"
          ]
        }
      ]
    }
  ]
}